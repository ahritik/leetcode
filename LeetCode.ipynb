{
 "cells": [
  {
   "cell_type": "markdown",
   "metadata": {},
   "source": [
    "Roman to Integer (15)"
   ]
  },
  {
   "cell_type": "code",
   "execution_count": 24,
   "metadata": {},
   "outputs": [
    {
     "name": "stdout",
     "output_type": "stream",
     "text": [
      "Input:III     Output: 2\n",
      "Input:LVIII   Output: 57\n",
      "Input:MCMXCIV Output: 1995\n"
     ]
    }
   ],
   "source": [
    "romanNumerals = {\n",
    "    'I':1,\n",
    "    'V':5,\n",
    "    'X':10,\n",
    "    'L':50,\n",
    "    'C':100,\n",
    "    'D':500,\n",
    "    'M':1000\n",
    "}\n",
    "\n",
    "def romanToInteger(roman):\n",
    "    romanInt = 0\n",
    "    for i in range(0,len(roman)-2):\n",
    "        if (romanNumerals[roman[i]] < romanNumerals[roman[i+1]]):\n",
    "            romanInt-=romanNumerals[roman[i]]\n",
    "        else:\n",
    "            romanInt+=romanNumerals[roman[i]]\n",
    "\n",
    "    return romanInt+romanNumerals[roman[len(roman)-1]]\n",
    "\n",
    "\n",
    "print(\"Input:III     Output:\",romanToInteger(\"III\"))\n",
    "print(\"Input:LVIII   Output:\",romanToInteger(\"LVIII\"))\n",
    "print(\"Input:MCMXCIV Output:\",romanToInteger(\"MCMXCIV\"))"
   ]
  },
  {
   "cell_type": "markdown",
   "metadata": {},
   "source": [
    "Best Time to Sell Stock (121)\n"
   ]
  },
  {
   "cell_type": "code",
   "execution_count": 53,
   "metadata": {},
   "outputs": [
    {
     "name": "stdout",
     "output_type": "stream",
     "text": [
      "Input:[7,1,5,3,6,4] Output: 5\n",
      "Input:[7,6,4,3,1]]  Output: 0\n"
     ]
    }
   ],
   "source": [
    "def bestTimeToSellStock(stocks):\n",
    "    min = stocks[0]\n",
    "    maxProfit = 0\n",
    "    for i in range(1, len(stocks)):\n",
    "        if stocks[i] < min:\n",
    "            min = stocks[i]\n",
    "            maxProfit = 0\n",
    "        if stocks[i]-min > maxProfit:\n",
    "            maxProfit = stocks[i]-min\n",
    "            \n",
    "    return maxProfit\n",
    "\n",
    "print(\"Input:[7,1,5,3,6,4] Output:\",bestTimeToSellStock([7,1,5,3,6,4]))\n",
    "print(\"Input:[7,6,4,3,1]]  Output:\",bestTimeToSellStock([7,6,4,3,1]))"
   ]
  },
  {
   "cell_type": "markdown",
   "metadata": {},
   "source": [
    "Maximum Subarray (53)"
   ]
  },
  {
   "cell_type": "code",
   "execution_count": 72,
   "metadata": {},
   "outputs": [
    {
     "name": "stdout",
     "output_type": "stream",
     "text": [
      "the subarray starts at index 3\n",
      "Input:[-2,1,-3,4,-1,2,1,-5,4] Output: 5\n",
      "the subarray starts at index 0\n",
      "Input:[1] Output: 1\n",
      "the subarray starts at index 0\n",
      "Input:[5,4,-1,7,8] Output: 23\n"
     ]
    }
   ],
   "source": [
    "def maxSubarray(array):\n",
    "    maxSum = array[0]\n",
    "\n",
    "    minStart = 0\n",
    "    for i in range(1,len(array)):\n",
    "        if array[i] > maxSum+array[i]:\n",
    "            minStart = i\n",
    "            maxSum = array[i]\n",
    "        else:\n",
    "            maxSum += array[i]\n",
    "    print(\"the subarray starts at index\", minStart)\n",
    "    return maxSum\n",
    "\n",
    "print(\"Input:[-2,1,-3,4,-1,2,1,-5,4] Output:\",maxSubarray([-2,1,-3,4,-1,2,1,-5,4]))\n",
    "print(\"Input:[1] Output:\",maxSubarray([1]))\n",
    "print(\"Input:[5,4,-1,7,8] Output:\",maxSubarray([5,4,-1,7,8]))"
   ]
  },
  {
   "cell_type": "markdown",
   "metadata": {},
   "source": [
    "Longest Common Prefix (14)"
   ]
  },
  {
   "cell_type": "code",
   "execution_count": 73,
   "metadata": {},
   "outputs": [
    {
     "name": "stdout",
     "output_type": "stream",
     "text": [
      "Input: [\"flower\",\"flow\",\"flight\"]  Output: fl\n",
      "Input: [\"dog\",\"racecar\",\"car\"]     Output: \n"
     ]
    }
   ],
   "source": [
    "def largestCommonPrefix(words):\n",
    "    letters = \"\"\n",
    "    if(len(words) < 1):\n",
    "        return letters\n",
    "    elif(len(words) == 1):\n",
    "        return words[0]\n",
    "    \n",
    "    for i in range(1, len(words[0])):\n",
    "        for j in range(1, len(words)):\n",
    "            if i >= len(words[j]):\n",
    "                return letters\n",
    "            if words[0][0:i] != words[j][0:i]:\n",
    "                return letters\n",
    "        letters = words[0][0:i]\n",
    "    return letters\n",
    "\n",
    "print(\"Input: [\\\"flower\\\",\\\"flow\\\",\\\"flight\\\"]  Output:\",largestCommonPrefix([\"flower\",\"flow\",\"flight\"]))\n",
    "print(\"Input: [\\\"dog\\\",\\\"racecar\\\",\\\"car\\\"]     Output:\",largestCommonPrefix([\"dog\",\"racecar\",\"car\"]))\n"
   ]
  },
  {
   "cell_type": "markdown",
   "metadata": {},
   "source": [
    "Palindrome Number (9)"
   ]
  },
  {
   "cell_type": "code",
   "execution_count": 74,
   "metadata": {},
   "outputs": [
    {
     "name": "stdout",
     "output_type": "stream",
     "text": [
      "Input: 121  Output: True\n",
      "Input: -121 Output: False\n",
      "Input: 10   Output: False\n"
     ]
    }
   ],
   "source": [
    "def checkNumberPalindromatic(num):\n",
    "    if num < 0:\n",
    "        return False\n",
    "\n",
    "    reversed = 0\n",
    "    temp = num\n",
    "    while temp > 0:\n",
    "        reversed *= 10\n",
    "        reversed += temp%10\n",
    "        temp //= 10\n",
    "    \n",
    "    return reversed == num\n",
    "\n",
    "print(\"Input: 121  Output:\",checkNumberPalindromatic(121))\n",
    "print(\"Input: -121 Output:\",checkNumberPalindromatic(-121))\n",
    "print(\"Input: 10   Output:\",checkNumberPalindromatic(10))"
   ]
  },
  {
   "cell_type": "markdown",
   "metadata": {},
   "source": [
    "Integer to Roman Numeral ()"
   ]
  },
  {
   "cell_type": "code",
   "execution_count": null,
   "metadata": {},
   "outputs": [],
   "source": [
    "romanNumerals = {\n",
    "    'I':1,\n",
    "    'V':5,\n",
    "    'X':10,\n",
    "    'L':50,\n",
    "    'C':100,\n",
    "    'D':500,\n",
    "    'M':1000\n",
    "}\n",
    "\n",
    "def IntegerToRoman(num):\n",
    "    return num"
   ]
  },
  {
   "cell_type": "markdown",
   "metadata": {},
   "source": [
    "Climbing Stairs (20)"
   ]
  },
  {
   "cell_type": "code",
   "execution_count": null,
   "metadata": {},
   "outputs": [],
   "source": [
    "def climbStairs(stairs):\n",
    "    if stairs == 1:\n",
    "        return 1\n",
    "    if stairs == 2:\n",
    "        return 2\n",
    "    \n",
    "    stairsRecord = [1,2]\n",
    "    i=2\n",
    "    while i < stairs:\n",
    "        stairsRecord.append(stairsRecord[i-1]+stairsRecord[i-2])\n",
    "    return stairsRecord[stairs-2]\n",
    "\n"
   ]
  },
  {
   "cell_type": "markdown",
   "metadata": {},
   "source": [
    "Can Place Flowers (605)"
   ]
  },
  {
   "cell_type": "code",
   "execution_count": null,
   "metadata": {},
   "outputs": [],
   "source": [
    "def placeFlowers(flowers,num):\n",
    "    i = 1\n",
    "    while i < len(flowers)-1 or num <= 0:\n",
    "        if flowers[i] == 0 and flowers[i+1] == 0 and flowers[i-1] == 0:\n",
    "            flowers[i] = 1\n",
    "            num -= 1\n",
    "        i+=1\n",
    "    return num <= 0"
   ]
  },
  {
   "cell_type": "markdown",
   "metadata": {},
   "source": [
    "Merge Sorted Array (88)"
   ]
  },
  {
   "cell_type": "code",
   "execution_count": null,
   "metadata": {},
   "outputs": [],
   "source": [
    "def mergeSorted(a, aNum, b, bNum):\n",
    "    output = []\n",
    "\n",
    "    while aNum > 0 and bNum > 0:\n",
    "        if a[0] < b[0]:\n",
    "            output.append(a.pop(0))\n",
    "            aNum -= 1\n",
    "        else:\n",
    "            output.append(b.pop(0))\n",
    "            bNum -= 1\n",
    "    \n",
    "    while aNum > 0 and bNum == 0:\n",
    "        output.append(a.pop(0))\n",
    "        aNum -= 1\n",
    "    \n",
    "    while bNum > 0 and aNum == 0:\n",
    "        output.append(b.pop(0))\n",
    "        bNum -= 1\n",
    "\n",
    "    return output\n",
    "    "
   ]
  },
  {
   "cell_type": "markdown",
   "metadata": {},
   "source": [
    "Decode String (394)"
   ]
  },
  {
   "cell_type": "code",
   "execution_count": 4,
   "metadata": {},
   "outputs": [
    {
     "name": "stdout",
     "output_type": "stream",
     "text": [
      "Input: 3[a]2[bc]  Output: aaabcbc\n",
      "Input: 3[a2[c]]  Output: accaccacc\n",
      "Input: 2[abc]3[cd]ef  Output: abcabccdcdcdef\n"
     ]
    }
   ],
   "source": [
    "def decode(str):\n",
    "    num = 0\n",
    "    output = ''\n",
    "    stack = []\n",
    "    for letter in str:\n",
    "        if letter.isdigit():\n",
    "            num = num*10 + int(letter)\n",
    "        elif letter == \"[\":\n",
    "            stack.append(output)\n",
    "            stack.append(num)\n",
    "            output = ''\n",
    "            num = 0\n",
    "        elif letter.isalpha():\n",
    "            output += letter\n",
    "        elif letter == ']':\n",
    "            pre_num = stack.pop()\n",
    "            pre_string = stack.pop()\n",
    "            output = pre_string + pre_num * output\n",
    "    return output\n",
    "\n",
    "print(\"Input: 3[a]2[bc]  Output:\",decode(\"3[a]2[bc]\"))\n",
    "print(\"Input: 3[a2[c]]  Output:\",decode(\"3[a2[c]]\"))\n",
    "print(\"Input: 2[abc]3[cd]ef  Output:\",decode(\"2[abc]3[cd]ef\"))"
   ]
  },
  {
   "cell_type": "markdown",
   "metadata": {},
   "source": [
    "Merge Sorted Array(88)"
   ]
  },
  {
   "cell_type": "code",
   "execution_count": 6,
   "metadata": {},
   "outputs": [
    {
     "name": "stdout",
     "output_type": "stream",
     "text": [
      "Input: [1,2,3,0,0,0], 3, [2,5,6], 3  Output: [5, 5, 5, 6, 2, 5]\n",
      "Input: [1], 1, [], 0  Output: [1]\n"
     ]
    }
   ],
   "source": [
    "def mergeSorted(nums1, m, nums2, n):\n",
    "    m -= 1\n",
    "    n -= 1\n",
    "    maxLen = m + n - 1\n",
    "    while m >= 0 and n >= 0:\n",
    "        if nums1[m] > nums2[n]:\n",
    "            nums1[maxLen] = nums1[m]\n",
    "            maxLen -= 1\n",
    "            m -= 1\n",
    "        else:\n",
    "            nums1[maxLen] = nums2[n]\n",
    "            n -= 1\n",
    "            maxLen -= 1\n",
    "    while n >= 0:\n",
    "        nums1[maxLen] = nums2[n]\n",
    "        n -= 1\n",
    "        maxLen -= 1\n",
    "\n",
    "    return nums1\n",
    "\n",
    "print(\"Input: [1,2,3,0,0,0], 3, [2,5,6], 3  Output:\",mergeSorted([1,2,3,0,0,0], 3, [2,5,6], 3))\n",
    "print(\"Input: [1], 1, [], 0  Output:\",mergeSorted([1], 1, [], 0))\n"
   ]
  },
  {
   "cell_type": "markdown",
   "metadata": {},
   "source": [
    "Recondstruct Original Digits from String (423)"
   ]
  },
  {
   "cell_type": "code",
   "execution_count": 10,
   "metadata": {},
   "outputs": [
    {
     "name": "stdout",
     "output_type": "stream",
     "text": [
      "Input: fviefuro  Output: 45\n",
      "Input: owoztneoer  Output: 012\n"
     ]
    }
   ],
   "source": [
    "def reconstructDigits(word):\n",
    "    count = [0] * 10\n",
    "\n",
    "    for letter in word:\n",
    "      if letter == 'z':\n",
    "        count[0] += 1\n",
    "      if letter == 'o':\n",
    "        count[1] += 1\n",
    "      if letter == 'w':\n",
    "        count[2] += 1\n",
    "      if letter == 'h':\n",
    "        count[3] += 1\n",
    "      if letter == 'u':\n",
    "        count[4] += 1\n",
    "      if letter == 'f':\n",
    "        count[5] += 1\n",
    "      if letter == 'x':\n",
    "        count[6] += 1\n",
    "      if letter == 's':\n",
    "        count[7] += 1\n",
    "      if letter == 'g':\n",
    "        count[8] += 1\n",
    "      if letter == 'i':\n",
    "        count[9] += 1\n",
    "\n",
    "    count[1] -= count[0] + count[2] + count[4]\n",
    "    count[3] -= count[8]\n",
    "    count[5] -= count[4]\n",
    "    count[7] -= count[6]\n",
    "    count[9] -= count[5] + count[6] + count[8]\n",
    "\n",
    "    output = \"\"\n",
    "    for i in range(len(count)):\n",
    "        output += count[i]*str(i)\n",
    "    return output\n",
    "\n",
    "print(\"Input: fviefuro  Output:\",reconstructDigits(\"fviefuro\"))\n",
    "print(\"Input: owoztneoer  Output:\",reconstructDigits(\"owoztneoer\"))"
   ]
  },
  {
   "cell_type": "markdown",
   "metadata": {},
   "source": [
    "Merge Intervals (56)"
   ]
  },
  {
   "cell_type": "code",
   "execution_count": null,
   "metadata": {},
   "outputs": [],
   "source": [
    "def intervalMerge(intervals):\n",
    "    output = []\n",
    "\n",
    "    for interval in intervals:\n",
    "      if not output or output[-1][1] < interval[0]:\n",
    "        output.append(interval)\n",
    "      else:\n",
    "        output[-1][1] = max(output[-1][1], interval[1])\n",
    "\n",
    "    return output\n",
    "\n",
    "print()"
   ]
  },
  {
   "cell_type": "markdown",
   "metadata": {},
   "source": [
    "Buildings with Ocean View (1762)"
   ]
  },
  {
   "cell_type": "code",
   "execution_count": null,
   "metadata": {},
   "outputs": [],
   "source": [
    "def oceanView(buildings):\n",
    "   return 0"
   ]
  },
  {
   "cell_type": "markdown",
   "metadata": {},
   "source": [
    "Valid Word Abbreviation (408)"
   ]
  },
  {
   "cell_type": "code",
   "execution_count": null,
   "metadata": {},
   "outputs": [],
   "source": []
  },
  {
   "cell_type": "code",
   "execution_count": 6,
   "metadata": {},
   "outputs": [
    {
     "name": "stdout",
     "output_type": "stream",
     "text": [
      "1\n",
      "1\n"
     ]
    }
   ],
   "source": [
    "digit = 1\n",
    "if digit:\n",
    "    print(digit)\n",
    "\n",
    "if digit != 0:\n",
    "    print(digit)"
   ]
  },
  {
   "cell_type": "code",
   "execution_count": 6,
   "metadata": {},
   "outputs": [
    {
     "name": "stdout",
     "output_type": "stream",
     "text": [
      "False\n"
     ]
    }
   ],
   "source": [
    "account = False\n",
    "if not account:\n",
    "    print(account)\n"
   ]
  },
  {
   "cell_type": "code",
   "execution_count": 2,
   "metadata": {},
   "outputs": [
    {
     "name": "stdout",
     "output_type": "stream",
     "text": [
      "[1, 2, 4, 5, 2, 3, 6, 2, 35, 0, 23, 5, 23]\n",
      "[1, 0, 0, 5, 0, 3, 0, 0, 35, 0, 23, 5, 23]\n"
     ]
    }
   ],
   "source": [
    "nb = [1,2,4,5,2,3,6,2,35,0,23,5,23]\n",
    "i = 0\n",
    "print(nb)\n",
    "for n in nb:\n",
    "    if(n%2 == 0):\n",
    "        nb[i] = 0\n",
    "    i+=1\n",
    "print(nb)"
   ]
  },
  {
   "cell_type": "code",
   "execution_count": 12,
   "metadata": {},
   "outputs": [
    {
     "name": "stdout",
     "output_type": "stream",
     "text": [
      "0 0\n",
      "___\n"
     ]
    }
   ],
   "source": [
    "a , b = \"oke\", \"nice\"\n",
    "aPointer, bPointer = len(a)-1, len(b)-1\n",
    "while aPointer or bPointer:\n",
    "    if aPointer:\n",
    "        aPointer -= 1\n",
    "    if bPointer:\n",
    "        bPointer -= 1\n",
    "\n",
    "print(aPointer, bPointer)\n",
    "print(\"___\")"
   ]
  },
  {
   "cell_type": "code",
   "execution_count": 5,
   "metadata": {},
   "outputs": [
    {
     "data": {
      "text/plain": [
       "[12, 321, 23, 41, 2, 2, 3, 2, 1, 9]"
      ]
     },
     "execution_count": 5,
     "metadata": {},
     "output_type": "execute_result"
    }
   ],
   "source": [
    "nums1 = [2,3,1,1,4,1,2,9]\n",
    "nums2 = [12,321,23,41,2,2,3,2,1,9]\n",
    "\n",
    "nums1 and nums2"
   ]
  },
  {
   "cell_type": "code",
   "execution_count": 6,
   "metadata": {},
   "outputs": [
    {
     "name": "stdout",
     "output_type": "stream",
     "text": [
      "Integer\n",
      "List\n"
     ]
    }
   ],
   "source": [
    "numberlen = 2232\n",
    "type(numberlen)\n",
    "listlen = [123,232]\n",
    "type(listlen)\n",
    "\n",
    "if type(numberlen) == int:\n",
    "    print(\"Integer\")\n",
    "\n",
    "if type(listlen) == list:\n",
    "    print(\"List\")"
   ]
  },
  {
   "cell_type": "code",
   "execution_count": 3,
   "metadata": {},
   "outputs": [
    {
     "name": "stdout",
     "output_type": "stream",
     "text": [
      "True\n",
      "False\n",
      "False\n",
      "True\n"
     ]
    }
   ],
   "source": [
    "print(14 % 2 == 0)\n",
    "print(14 % 3 == 0)\n",
    "print(14 % 5 == 0)\n",
    "print(14 % 7 == 0)"
   ]
  },
  {
   "cell_type": "code",
   "execution_count": 5,
   "metadata": {},
   "outputs": [
    {
     "name": "stdout",
     "output_type": "stream",
     "text": [
      "True\n"
     ]
    }
   ],
   "source": [
    "n = 0\n",
    "if not n: print(\"True\")"
   ]
  },
  {
   "cell_type": "code",
   "execution_count": 1,
   "metadata": {},
   "outputs": [
    {
     "data": {
      "text/plain": [
       "2"
      ]
     },
     "execution_count": 1,
     "metadata": {},
     "output_type": "execute_result"
    }
   ],
   "source": [
    "str = \"Hello\"\n",
    "str.count(\"l\")"
   ]
  },
  {
   "cell_type": "code",
   "execution_count": 2,
   "metadata": {},
   "outputs": [
    {
     "name": "stdout",
     "output_type": "stream",
     "text": [
      "1\n",
      "4\n",
      "1\n",
      "5\n",
      "1\n",
      "5\n",
      "12\n",
      "4\n"
     ]
    }
   ],
   "source": [
    "nums = [1,2,4,1,2,5,1,2,5,12,4]\n",
    "\n",
    "for i in nums:\n",
    "    print(i)\n",
    "    if i == 1:\n",
    "        nums.remove(1)"
   ]
  },
  {
   "cell_type": "code",
   "execution_count": null,
   "metadata": {},
   "outputs": [],
   "source": [
    "rr = \"123452345\"\n",
    "\n",
    "[]"
   ]
  }
 ],
 "metadata": {
  "interpreter": {
   "hash": "ab38ba5a85f824e0e94e6624e7a64cd97870a0e2c6bf30b3938e8e97633cfae6"
  },
  "kernelspec": {
   "display_name": "Python 3.8.13 ('base')",
   "language": "python",
   "name": "python3"
  },
  "language_info": {
   "codemirror_mode": {
    "name": "ipython",
    "version": 3
   },
   "file_extension": ".py",
   "mimetype": "text/x-python",
   "name": "python",
   "nbconvert_exporter": "python",
   "pygments_lexer": "ipython3",
   "version": "3.8.13"
  },
  "orig_nbformat": 4
 },
 "nbformat": 4,
 "nbformat_minor": 2
}
